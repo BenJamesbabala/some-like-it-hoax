{
 "cells": [
  {
   "cell_type": "code",
   "execution_count": 1,
   "metadata": {
    "collapsed": false
   },
   "outputs": [],
   "source": [
    "from __future__ import print_function\n",
    "%matplotlib inline"
   ]
  },
  {
   "cell_type": "markdown",
   "metadata": {},
   "source": [
    "### Index\n",
    "[Import data](#1)   \n",
    "[0. Generate datasets](#6)  \n",
    "[1. k-fold cross-validation on posts](#7)  \n",
    "[2. Train size: random set of posts](#8)  \n",
    "[3. Leave one page out](#10)  \n",
    "[4. Leave half pages out](#11)  "
   ]
  },
  {
   "cell_type": "markdown",
   "metadata": {},
   "source": [
    "### <a id='1'></a> Import data"
   ]
  },
  {
   "cell_type": "code",
   "execution_count": 2,
   "metadata": {
    "collapsed": true
   },
   "outputs": [],
   "source": [
    "import json\n",
    "import numpy as np\n",
    "import pandas as pd"
   ]
  },
  {
   "cell_type": "code",
   "execution_count": 3,
   "metadata": {
    "collapsed": false
   },
   "outputs": [
    {
     "name": "stdout",
     "output_type": "stream",
     "text": [
      "Json length: 15500\n"
     ]
    }
   ],
   "source": [
    "with open('likers.json') as data_file:\n",
    "    data = json.load(data_file)\n",
    "\n",
    "print('Json length: %s' % len(data))"
   ]
  },
  {
   "cell_type": "code",
   "execution_count": 4,
   "metadata": {
    "collapsed": true
   },
   "outputs": [],
   "source": [
    "hoax_pages = {'188189217954979',\n",
    "              '253520844711659',\n",
    "              '199277020680',\n",
    "              '233426770069342',\n",
    "              '68091825232',\n",
    "              '194120424046954',\n",
    "              '126393880733870',\n",
    "              '109383485816534',\n",
    "              '203737476337348',\n",
    "              '159590407439801',\n",
    "              '124489267724876',\n",
    "              '123944574364433',\n",
    "              '130541730433071',\n",
    "              '278440415537619',\n",
    "              '101748583911',\n",
    "              '352513104826417',\n",
    "              '195235103879949'}"
   ]
  },
  {
   "cell_type": "markdown",
   "metadata": {},
   "source": [
    "### <a id='6'></a> 0. Generate datasets"
   ]
  },
  {
   "cell_type": "code",
   "execution_count": 5,
   "metadata": {
    "collapsed": false
   },
   "outputs": [
    {
     "name": "stdout",
     "output_type": "stream",
     "text": [
      "Full dataset:\n",
      "Posts with 0+ likes = 15500 (8923 hoax)\n",
      "Users with 0+ likes = 909236\n",
      "2376776 non-zero values out of 14093158000 (loading factor: 0.00%)\n",
      "\n",
      "Intersection dataset:\n",
      "Total users: 909236, Intersection users: 14139\n",
      "117641 non-zero values out of 148742280 (loading factor: 0.00%)\n",
      "\n",
      "CPU times: user 30.3 s, sys: 1.02 s, total: 31.3 s\n",
      "Wall time: 33.2 s\n"
     ]
    }
   ],
   "source": [
    "%%time\n",
    "import df_utils\n",
    "\n",
    "print('Full dataset:')\n",
    "like_matrix, page, hoax = df_utils.cut_dataset(data,\n",
    "                                                hoax_pages,\n",
    "                                                min_post_like=0,\n",
    "                                                min_user_like=0,\n",
    "                                                print_results=True)\n",
    "print('\\nIntersection dataset:')\n",
    "like_matrix_i, page_i, hoax_i = df_utils.filter_intersection(data,\n",
    "                                                hoax_pages,\n",
    "                                                print_results=True)\n",
    "print()"
   ]
  },
  {
   "cell_type": "markdown",
   "metadata": {},
   "source": [
    "### <a id='7'></a> 1. k-fold cross-validation on posts"
   ]
  },
  {
   "cell_type": "code",
   "execution_count": 6,
   "metadata": {
    "collapsed": false
   },
   "outputs": [
    {
     "name": "stdout",
     "output_type": "stream",
     "text": [
      "Full dataset - mean: 0.986, std: 0.002\n",
      "Intersection dataset - mean: 0.955, std: 0.006\n",
      "\n",
      "CPU times: user 46.1 s, sys: 908 ms, total: 47 s\n",
      "Wall time: 47.8 s\n"
     ]
    }
   ],
   "source": [
    "%%time\n",
    "from sklearn import linear_model\n",
    "from sklearn.model_selection import cross_val_score\n",
    "\n",
    "def test_1(like_matrix, hoax):\n",
    "    logreg = linear_model.LogisticRegression(C=1)\n",
    "    return cross_val_score(logreg, like_matrix, hoax, cv=5)\n",
    "\n",
    "score_test_1 = test_1(like_matrix, hoax)\n",
    "print('Full dataset - mean: %.3f, std: %.3f' % (np.mean(score_test_1), np.std(score_test_1)))\n",
    "score_test_1_i = test_1(like_matrix_i, hoax_i)\n",
    "print('Intersection dataset - mean: %.3f, std: %.3f\\n' % (np.mean(score_test_1_i), np.std(score_test_1_i)))"
   ]
  },
  {
   "cell_type": "markdown",
   "metadata": {},
   "source": [
    "### <a id='8'></a> 2. Train size: random set of posts"
   ]
  },
  {
   "cell_type": "code",
   "execution_count": 7,
   "metadata": {
    "collapsed": false
   },
   "outputs": [
    {
     "name": "stdout",
     "output_type": "stream",
     "text": [
      "Full dataset - mean: 0.97, std: 0.01\n",
      "Intersection dataset - mean: 0.92, std: 0.01\n",
      "\n",
      "CPU times: user 4min 46s, sys: 6.43 s, total: 4min 52s\n",
      "Wall time: 5min 4s\n"
     ]
    }
   ],
   "source": [
    "%%time\n",
    "from sklearn.model_selection import train_test_split\n",
    "from sklearn import linear_model\n",
    "from sklearn import metrics\n",
    "\n",
    "def test_2(like_matrix, hoax, test_size, iterations=50):\n",
    "    accuracy_list = []\n",
    "    for seed in range(iterations):\n",
    "        X_train, X_test, Y_train, Y_test = train_test_split(like_matrix, hoax, test_size=test_size, random_state=seed)\n",
    "        logreg = linear_model.LogisticRegression(C=1)\n",
    "        logreg.fit(X_train, Y_train)\n",
    "        Y_pred = logreg.predict(X_test)\n",
    "        accuracy_list.append(metrics.accuracy_score(Y_test, Y_pred))\n",
    "    return accuracy_list\n",
    "\n",
    "score_test_2 = test_2(like_matrix, hoax, 0.9)\n",
    "print('Full dataset - mean: %.2f, std: %.2f' % (np.mean(score_test_2), np.std(score_test_2)))\n",
    "score_test_2_i = test_2(like_matrix_i, hoax_i, 0.9)\n",
    "print('Intersection dataset - mean: %.2f, std: %.2f' % (np.mean(score_test_2_i), np.std(score_test_2_i)))\n",
    "print()"
   ]
  },
  {
   "cell_type": "code",
   "execution_count": 8,
   "metadata": {
    "collapsed": false
   },
   "outputs": [
    {
     "name": "stdout",
     "output_type": "stream",
     "text": [
      "Done\n",
      "\n",
      "CPU times: user 24min 1s, sys: 27.9 s, total: 24min 29s\n",
      "Wall time: 26min 13s\n"
     ]
    }
   ],
   "source": [
    "%%time\n",
    "res_all_x = [10, 20, 50, 100, 200, 400, 1000]\n",
    "score_test_2 = [test_2(like_matrix, hoax, 1-(1/float(i))) for i in res_all_x]\n",
    "score_test_2_i = [test_2(like_matrix_i, hoax_i, 1-(1/float(i))) for i in res_all_x]\n",
    "print('Done\\n')"
   ]
  },
  {
   "cell_type": "code",
   "execution_count": 9,
   "metadata": {
    "collapsed": false,
    "scrolled": true
   },
   "outputs": [
    {
     "name": "stdout",
     "output_type": "stream",
     "text": [
      "res_all_y = [0.96669677419354827, 0.95533989813242781, 0.93099144173798531, 0.90329749103942636, 0.84348699993516163, 0.74553227266847766, 0.63488149822408779]\n",
      "res_all_err = [0.0055568473928726322, 0.0096648261910718368, 0.019235373404428768, 0.038534806597708672, 0.059711620024988706, 0.086215312070645644, 0.11551090232666143]\n",
      "res_int_y = [0.91654203633291076, 0.89193315989593758, 0.84144907856450035, 0.77512049927988469, 0.70986052732136029, 0.63810367829235748, 0.56102949571836336]\n",
      "res_int_err = [0.0077756103084875598, 0.013865324498876704, 0.029058334540871818, 0.047490066556372029, 0.05720552897645028, 0.060875349450386827, 0.054692571945068366]\n"
     ]
    }
   ],
   "source": [
    "#Graph points\n",
    "res_all_y = [np.mean(i) for i in score_test_2]\n",
    "print('res_all_y = %s' % str(res_all_y))\n",
    "res_all_err = [np.std(i) for i in score_test_2]\n",
    "print('res_all_err = %s' % str(res_all_err))\n",
    "res_int_x = [10, 20, 50, 100, 200, 400, 1000]\n",
    "res_int_y = [np.mean(i) for i in score_test_2_i]\n",
    "print('res_int_y = %s' % str(res_int_y))\n",
    "res_int_err = [np.std(i) for i in score_test_2_i]\n",
    "print('res_int_err = %s' % str(res_int_err))"
   ]
  },
  {
   "cell_type": "code",
   "execution_count": 16,
   "metadata": {
    "collapsed": false
   },
   "outputs": [
    {
     "data": {
      "text/plain": [
       "[]"
      ]
     },
     "execution_count": 16,
     "metadata": {},
     "output_type": "execute_result"
    },
    {
     "data": {
      "text/plain": [
       "<matplotlib.figure.Figure at 0x11240fbd0>"
      ]
     },
     "metadata": {},
     "output_type": "display_data"
    },
    {
     "data": {
      "image/png": "[encoded data removed]",
      "text/plain": [
       "<matplotlib.figure.Figure at 0x113020e50>"
      ]
     },
     "metadata": {},
     "output_type": "display_data"
    }
   ],
   "source": [
    "import matplotlib.pyplot as plt\n",
    "\n",
    "plt.figure(figsize=(10,6))\n",
    "res_a_x = [1.0 / x for x in res_all_x]\n",
    "res_i_x = [1.0 / x for x in res_int_x]\n",
    "fig, ax = plt.subplots(1)\n",
    "ax.errorbar(res_a_x, res_all_y, yerr=res_all_err, marker='o', label='complete dataset')\n",
    "ax.errorbar(res_a_x, res_int_y, yerr=res_int_err, marker='+', label='intersection dataset')\n",
    "plt.ylim(0.45, 1.05)\n",
    "plt.xscale('log')\n",
    "plt.xlim(1/1200.0, 1/9.0)\n",
    "ax.legend(loc='lower right')\n",
    "ax.grid()\n",
    "fig.suptitle('Accuracy vs. number of items in learning set')\n",
    "plt.plot()"
   ]
  },
  {
   "cell_type": "markdown",
   "metadata": {
    "collapsed": true
   },
   "source": [
    "### <a id='10'></a> 3. Leave one page out"
   ]
  },
  {
   "cell_type": "code",
   "execution_count": 11,
   "metadata": {
    "collapsed": false
   },
   "outputs": [
    {
     "name": "stdout",
     "output_type": "stream",
     "text": [
      "Full dataset - mean: 0.794, std: 0.303\n",
      "Intersection dataset - mean: 0.655, std: 0.292\n",
      "\n",
      "CPU times: user 8min 10s, sys: 6.87 s, total: 8min 17s\n",
      "Wall time: 8min 25s\n"
     ]
    }
   ],
   "source": [
    "%%time\n",
    "from sklearn import linear_model\n",
    "from sklearn import metrics\n",
    "import df_utils\n",
    "\n",
    "def test_3(like_matrix, hoax, page):\n",
    "    accuracy_list = []\n",
    "    for p in set(page):\n",
    "        matrix_test, hoax_test, matrix_train, hoax_train = df_utils.split_pages(like_matrix, page, hoax, [str(p)])\n",
    "        logreg = linear_model.LogisticRegression(C=1)\n",
    "        logreg.fit(matrix_train, hoax_train)\n",
    "        Y_pred = logreg.predict(matrix_test)\n",
    "        acc = metrics.accuracy_score(hoax_test, Y_pred)\n",
    "        accuracy_list.append(acc)\n",
    "    return accuracy_list\n",
    "\n",
    "score_test_3 = test_3(like_matrix, hoax, page)\n",
    "print('Full dataset - mean: %.3f, std: %.3f' % (np.mean(score_test_3), np.std(score_test_3)))\n",
    "score_test_3_i = test_3(like_matrix_i, hoax_i, page_i)\n",
    "print('Intersection dataset - mean: %.3f, std: %.3f\\n' % (np.mean(score_test_3_i), np.std(score_test_3_i)))"
   ]
  },
  {
   "cell_type": "markdown",
   "metadata": {
    "collapsed": true
   },
   "source": [
    "### <a id='11'></a> 4. Leave half pages out"
   ]
  },
  {
   "cell_type": "code",
   "execution_count": 12,
   "metadata": {
    "collapsed": false
   },
   "outputs": [
    {
     "name": "stdout",
     "output_type": "stream",
     "text": [
      "Full dataset - mean: 0.716, std: 0.143\n",
      "\n"
     ]
    }
   ],
   "source": [
    "from sklearn import linear_model\n",
    "from sklearn import metrics\n",
    "import df_utils\n",
    "import random\n",
    "\n",
    "pages_list = set(page)\n",
    "hoax_pages = [p for p in pages_list if p in hoax_pages] #remove pages with no posts\n",
    "not_hoax_pages = [p for p in pages_list if p not in hoax_pages]\n",
    "\n",
    "accuracy_list = []\n",
    "for seed in range(50):\n",
    "    random.seed(seed)\n",
    "    pages_tosplit = random.sample(hoax_pages, int(len(hoax_pages)/2.))\n",
    "    pages_tosplit.extend(random.sample(not_hoax_pages, int(len(not_hoax_pages)/2.)))\n",
    "    matrix_train, hoax_train, matrix_test, hoax_test = df_utils.split_pages(like_matrix, page, hoax, pages_tosplit)\n",
    "    logreg = linear_model.LogisticRegression(C=1)\n",
    "    logreg.fit(matrix_train, hoax_train)\n",
    "    Y_pred = logreg.predict(matrix_test)\n",
    "    acc = metrics.accuracy_score(hoax_test, Y_pred)\n",
    "    accuracy_list.append(acc)\n",
    "print('Full dataset - mean: %.3f, std: %.3f\\n' % (np.mean(accuracy_list), np.std(accuracy_list)))"
   ]
  },
  {
   "cell_type": "code",
   "execution_count": 13,
   "metadata": {
    "collapsed": false
   },
   "outputs": [
    {
     "name": "stdout",
     "output_type": "stream",
     "text": [
      "Intersection dataset - mean: 0.587, std: 0.112\n",
      "\n"
     ]
    }
   ],
   "source": [
    "from sklearn import linear_model\n",
    "from sklearn import metrics\n",
    "import df_utils\n",
    "import random\n",
    "\n",
    "pages_list = set(page_i)\n",
    "hoax_pages = [p for p in pages_list if p in hoax_pages] #remove pages with no posts\n",
    "not_hoax_pages = [p for p in pages_list if p not in hoax_pages]\n",
    "\n",
    "accuracy_list_i = []\n",
    "for seed in range(50):\n",
    "    random.seed(seed)\n",
    "    pages_tosplit = random.sample(hoax_pages, int(len(hoax_pages)/2.))\n",
    "    pages_tosplit.extend(random.sample(not_hoax_pages, int(len(not_hoax_pages)/2.)))\n",
    "    matrix_train, hoax_train, matrix_test, hoax_test = df_utils.split_pages(like_matrix_i, page_i, hoax_i, pages_tosplit)\n",
    "    logreg = linear_model.LogisticRegression(C=1)\n",
    "    logreg.fit(matrix_train, hoax_train)\n",
    "    Y_pred = logreg.predict(matrix_test)\n",
    "    acc = metrics.accuracy_score(hoax_test, Y_pred)\n",
    "    accuracy_list_i.append(acc)\n",
    "print('Intersection dataset - mean: %.3f, std: %.3f\\n' % (np.mean(accuracy_list_i), np.std(accuracy_list_i)))"
   ]
  }
 ],
 "metadata": {
  "kernelspec": {
   "display_name": "Python 2",
   "language": "python",
   "name": "python2"
  },
  "language_info": {
   "codemirror_mode": {
    "name": "ipython",
    "version": 2
   },
   "file_extension": ".py",
   "mimetype": "text/x-python",
   "name": "python",
   "nbconvert_exporter": "python",
   "pygments_lexer": "ipython2",
   "version": "2.7.9"
  }
 },
 "nbformat": 4,
 "nbformat_minor": 0
}
